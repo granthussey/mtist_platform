{
 "cells": [
  {
   "cell_type": "code",
   "execution_count": 1,
   "metadata": {},
   "outputs": [],
   "source": [
    "import glob\n",
    "import numpy as np\n",
    "import pandas as pd"
   ]
  },
  {
   "cell_type": "code",
   "execution_count": 15,
   "metadata": {},
   "outputs": [
    {
     "name": "stdout",
     "output_type": "stream",
     "text": [
      "n_species\n",
      "[100  10   3]\n",
      "3\n",
      "\n",
      "ground_truth\n",
      "['100_sp_gt' '10_sp_gt_196' '10_sp_gt_228' '10_sp_gt_233' '10_sp_gt_26'\n",
      " '10_sp_gt_275' '10_sp_gt_3' '10_sp_gt_318' '10_sp_gt_356' '10_sp_gt_376'\n",
      " '10_sp_gt_38' '10_sp_gt_458' '10_sp_gt_492' '10_sp_gt_618' '10_sp_gt_627'\n",
      " '10_sp_gt_633' '10_sp_gt_638' '10_sp_gt_753' '10_sp_gt_800'\n",
      " '10_sp_gt_866' '10_sp_gt_882' '10_sp_gt_885' '10_sp_gt_905'\n",
      " '10_sp_gt_961' '10_sp_gt_971' '3_sp_gt_2c1e' '3_sp_gt_2c1m'\n",
      " '3_sp_gt_2e1c' '3_sp_gt_2e1c_flip' '3_sp_gt_2e1m'\n",
      " '3_sp_gt_2e1m_periodical' '3_sp_gt_3c' '3_sp_gt_3e']\n",
      "33\n",
      "\n",
      "noise\n",
      "[0.01 0.1 ]\n",
      "2\n",
      "\n",
      "n_timeseries\n",
      "[10 25 50]\n",
      "3\n",
      "\n",
      "n_timepoints\n",
      "[ 5 15]\n",
      "2\n",
      "\n",
      "sampling_scheme\n",
      "['even' 'random' 'seq']\n",
      "3\n",
      "\n"
     ]
    }
   ],
   "source": [
    "meta = pd.read_csv('mtist_datasets/mtist_metadata.csv').drop(columns='Unnamed: 0').set_index('did')\n",
    "\n",
    "for col in meta.columns:\n",
    "    print(col) \n",
    "    print(meta[col].unique())\n",
    "    print(len(meta[col].unique()))\n",
    "    print()"
   ]
  }
 ],
 "metadata": {
  "kernelspec": {
   "display_name": "Python 3.8.10 ('mkspike')",
   "language": "python",
   "name": "python3"
  },
  "language_info": {
   "codemirror_mode": {
    "name": "ipython",
    "version": 3
   },
   "file_extension": ".py",
   "mimetype": "text/x-python",
   "name": "python",
   "nbconvert_exporter": "python",
   "pygments_lexer": "ipython3",
   "version": "3.8.10"
  },
  "orig_nbformat": 4,
  "vscode": {
   "interpreter": {
    "hash": "2a979d6207f48fd68ead96f535faa3705478d457c2f67b7424611e8ec819811a"
   }
  }
 },
 "nbformat": 4,
 "nbformat_minor": 2
}
