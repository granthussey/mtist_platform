{
 "cells": [
  {
   "cell_type": "code",
   "execution_count": 1,
   "metadata": {},
   "outputs": [],
   "source": [
    "import numpy as np\n",
    "import pandas as pd\n",
    "\n",
    "\n",
    "from mtist import mtist_utils as mu\n",
    "from mtist import infer_mtist as im"
   ]
  },
  {
   "attachments": {},
   "cell_type": "markdown",
   "metadata": {},
   "source": [
    "Plan - \n",
    "\n",
    "* For each ground truth, run random inference 10,000 times. Then put 'em all together."
   ]
  },
  {
   "cell_type": "code",
   "execution_count": 2,
   "metadata": {},
   "outputs": [],
   "source": [
    "meta = (\n",
    "    pd.read_csv(\"mtist_datasets/mtist_metadata.csv\")\n",
    "    .drop(columns=[\"Unnamed: 0\"])\n",
    "    .set_index(\"did\")\n",
    ")\n",
    "\n",
    "rng = np.random.default_rng(11206)\n",
    "\n",
    "mu.GLOBALS.GT_DIR = \"ground_truths\"\n",
    "aijs, _ = mu.load_ground_truths(mu.GLOBALS.GT_DIR)\n",
    "\n",
    "gts = list(aijs.keys())"
   ]
  },
  {
   "cell_type": "code",
   "execution_count": 3,
   "metadata": {},
   "outputs": [],
   "source": [
    "# Create a null model\n",
    "\n",
    "null = {\n",
    "    gt: \n",
    "        [\n",
    "            im.calculate_es_score(\n",
    "                aijs[gt],\n",
    "                rng.uniform(low=-3, high=3, size=aijs[gt].shape)\n",
    "            )\n",
    "            for _ in range(10000)\n",
    "        ]\n",
    "    for gt in gts\n",
    "}\n",
    "\n",
    "null_df = pd.DataFrame(null)\n",
    "null_df.to_csv('null_models/null_df.csv')\n",
    "\n",
    "(\n",
    "    null_df[meta.query(\"n_species == 3\")[\"ground_truth\"].unique()]\n",
    "    .melt()\n",
    "    .rename(columns={\"value\": \"3-sp_null\"})\n",
    "    .to_csv(\"null_models/null_df_3sp.csv\")\n",
    ")\n",
    "\n",
    "(\n",
    "    null_df[meta.query(\"n_species == 10\")[\"ground_truth\"].unique()]\n",
    "    .melt()\n",
    "    .rename(columns={\"value\": \"10-sp_null\"})\n",
    "    .to_csv(\"null_models/null_df_10sp.csv\")\n",
    ")\n",
    "\n",
    "(\n",
    "    null_df[meta.query(\"n_species == 100\")[\"ground_truth\"].unique()]\n",
    "    .melt()\n",
    "    .rename(columns={\"value\": \"100-sp_null\"})\n",
    "    .to_csv(\"null_models/null_df_100sp.csv\")\n",
    ")"
   ]
  },
  {
   "cell_type": "code",
   "execution_count": 17,
   "metadata": {},
   "outputs": [],
   "source": [
    "# Create a null model\n",
    "\n",
    "gt = \"100_sp_gt\"\n",
    "\n",
    "strong_th = np.percentile(\n",
    "    np.abs(pd.DataFrame(aijs[gt]).replace(0, np.nan).melt().dropna()[\"value\"]),\n",
    "    90,\n",
    ")\n",
    "\n",
    "truth_strong = pd.DataFrame(aijs[gt])\n",
    "truth_strong = truth_strong[np.abs(truth_strong) > strong_th].fillna(0).values\n",
    "\n",
    "null_strong = {\n",
    "    gt: [\n",
    "        im.calculate_es_score(\n",
    "            truth_strong, rng.uniform(low=-3, high=3, size=(100, 100))\n",
    "        )\n",
    "        for _ in range(10000)\n",
    "    ]\n",
    "}\n",
    "\n",
    "strong_df = (\n",
    "    pd.Series(null_strong[gt])\n",
    "    .to_frame(\"100-sp_null\")\n",
    "    .assign(variable=gt)\n",
    ")\n",
    "\n",
    "strong_df = strong_df[strong_df.columns[::-1]]\n",
    "\n",
    "strong_df.to_csv(\"null_models/null_df_100sp_strong.csv\")"
   ]
  }
 ],
 "metadata": {
  "kernelspec": {
   "display_name": "mkspike",
   "language": "python",
   "name": "python3"
  },
  "language_info": {
   "codemirror_mode": {
    "name": "ipython",
    "version": 3
   },
   "file_extension": ".py",
   "mimetype": "text/x-python",
   "name": "python",
   "nbconvert_exporter": "python",
   "pygments_lexer": "ipython3",
   "version": "3.8.10"
  },
  "orig_nbformat": 4
 },
 "nbformat": 4,
 "nbformat_minor": 2
}
