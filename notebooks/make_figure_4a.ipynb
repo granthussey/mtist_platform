{
 "cells": [
  {
   "cell_type": "code",
   "execution_count": 1,
   "metadata": {},
   "outputs": [],
   "source": [
    "import os\n",
    "\n",
    "import numpy as np\n",
    "import pandas as pd\n",
    "import seaborn as sns\n",
    "\n",
    "from matplotlib import pyplot as plt\n",
    "\n",
    "from mtist import infer_mtist as im\n",
    "from mtist import graphing_utils as gu\n",
    "\n",
    "%config InlineBackend.figure_format='retina'\n",
    "\n",
    "plt.rcParams[\"svg.fonttype\"] = \"none\"\n",
    "plt.rcParams.update({\"font.family\": \"Helvetica\"})"
   ]
  },
  {
   "cell_type": "code",
   "execution_count": 2,
   "metadata": {},
   "outputs": [
    {
     "data": {
      "text/html": [
       "<div>\n",
       "<style scoped>\n",
       "    .dataframe tbody tr th:only-of-type {\n",
       "        vertical-align: middle;\n",
       "    }\n",
       "\n",
       "    .dataframe tbody tr th {\n",
       "        vertical-align: top;\n",
       "    }\n",
       "\n",
       "    .dataframe thead th {\n",
       "        text-align: right;\n",
       "    }\n",
       "</style>\n",
       "<table border=\"1\" class=\"dataframe\">\n",
       "  <thead>\n",
       "    <tr style=\"text-align: right;\">\n",
       "      <th></th>\n",
       "      <th>n_species</th>\n",
       "      <th>ground_truth</th>\n",
       "      <th>noise</th>\n",
       "      <th>n_timeseries</th>\n",
       "      <th>n_timepoints</th>\n",
       "      <th>sampling_scheme</th>\n",
       "    </tr>\n",
       "    <tr>\n",
       "      <th>did</th>\n",
       "      <th></th>\n",
       "      <th></th>\n",
       "      <th></th>\n",
       "      <th></th>\n",
       "      <th></th>\n",
       "      <th></th>\n",
       "    </tr>\n",
       "  </thead>\n",
       "  <tbody>\n",
       "    <tr>\n",
       "      <th>0</th>\n",
       "      <td>100</td>\n",
       "      <td>100_sp_gt</td>\n",
       "      <td>0.01</td>\n",
       "      <td>10</td>\n",
       "      <td>5</td>\n",
       "      <td>even</td>\n",
       "    </tr>\n",
       "    <tr>\n",
       "      <th>1</th>\n",
       "      <td>100</td>\n",
       "      <td>100_sp_gt</td>\n",
       "      <td>0.01</td>\n",
       "      <td>10</td>\n",
       "      <td>15</td>\n",
       "      <td>even</td>\n",
       "    </tr>\n",
       "    <tr>\n",
       "      <th>2</th>\n",
       "      <td>100</td>\n",
       "      <td>100_sp_gt</td>\n",
       "      <td>0.01</td>\n",
       "      <td>10</td>\n",
       "      <td>5</td>\n",
       "      <td>random</td>\n",
       "    </tr>\n",
       "    <tr>\n",
       "      <th>3</th>\n",
       "      <td>100</td>\n",
       "      <td>100_sp_gt</td>\n",
       "      <td>0.01</td>\n",
       "      <td>10</td>\n",
       "      <td>15</td>\n",
       "      <td>random</td>\n",
       "    </tr>\n",
       "    <tr>\n",
       "      <th>4</th>\n",
       "      <td>100</td>\n",
       "      <td>100_sp_gt</td>\n",
       "      <td>0.01</td>\n",
       "      <td>10</td>\n",
       "      <td>5</td>\n",
       "      <td>seq</td>\n",
       "    </tr>\n",
       "    <tr>\n",
       "      <th>...</th>\n",
       "      <td>...</td>\n",
       "      <td>...</td>\n",
       "      <td>...</td>\n",
       "      <td>...</td>\n",
       "      <td>...</td>\n",
       "      <td>...</td>\n",
       "    </tr>\n",
       "    <tr>\n",
       "      <th>643</th>\n",
       "      <td>3</td>\n",
       "      <td>3_sp_gt_8</td>\n",
       "      <td>0.10</td>\n",
       "      <td>50</td>\n",
       "      <td>15</td>\n",
       "      <td>even</td>\n",
       "    </tr>\n",
       "    <tr>\n",
       "      <th>644</th>\n",
       "      <td>3</td>\n",
       "      <td>3_sp_gt_8</td>\n",
       "      <td>0.10</td>\n",
       "      <td>50</td>\n",
       "      <td>5</td>\n",
       "      <td>random</td>\n",
       "    </tr>\n",
       "    <tr>\n",
       "      <th>645</th>\n",
       "      <td>3</td>\n",
       "      <td>3_sp_gt_8</td>\n",
       "      <td>0.10</td>\n",
       "      <td>50</td>\n",
       "      <td>15</td>\n",
       "      <td>random</td>\n",
       "    </tr>\n",
       "    <tr>\n",
       "      <th>646</th>\n",
       "      <td>3</td>\n",
       "      <td>3_sp_gt_8</td>\n",
       "      <td>0.10</td>\n",
       "      <td>50</td>\n",
       "      <td>5</td>\n",
       "      <td>seq</td>\n",
       "    </tr>\n",
       "    <tr>\n",
       "      <th>647</th>\n",
       "      <td>3</td>\n",
       "      <td>3_sp_gt_8</td>\n",
       "      <td>0.10</td>\n",
       "      <td>50</td>\n",
       "      <td>15</td>\n",
       "      <td>seq</td>\n",
       "    </tr>\n",
       "  </tbody>\n",
       "</table>\n",
       "<p>648 rows × 6 columns</p>\n",
       "</div>"
      ],
      "text/plain": [
       "     n_species ground_truth  noise  n_timeseries  n_timepoints sampling_scheme\n",
       "did                                                                           \n",
       "0          100    100_sp_gt   0.01            10             5            even\n",
       "1          100    100_sp_gt   0.01            10            15            even\n",
       "2          100    100_sp_gt   0.01            10             5          random\n",
       "3          100    100_sp_gt   0.01            10            15          random\n",
       "4          100    100_sp_gt   0.01            10             5             seq\n",
       "..         ...          ...    ...           ...           ...             ...\n",
       "643          3    3_sp_gt_8   0.10            50            15            even\n",
       "644          3    3_sp_gt_8   0.10            50             5          random\n",
       "645          3    3_sp_gt_8   0.10            50            15          random\n",
       "646          3    3_sp_gt_8   0.10            50             5             seq\n",
       "647          3    3_sp_gt_8   0.10            50            15             seq\n",
       "\n",
       "[648 rows x 6 columns]"
      ]
     },
     "execution_count": 2,
     "metadata": {},
     "output_type": "execute_result"
    }
   ],
   "source": [
    "meta = (\n",
    "    pd.read_csv(\"mtist_datasets/mtist_metadata.csv\")\n",
    "    .drop(columns=\"Unnamed: 0\")\n",
    "    .set_index(\"did\")\n",
    ")\n",
    "meta"
   ]
  },
  {
   "cell_type": "code",
   "execution_count": 3,
   "metadata": {},
   "outputs": [],
   "source": [
    "def load_aij(method, did):\n",
    "    path = f\"mtist_datasets/{method}_inference_result/{method}_inferred_aij_{did}.csv\"\n",
    "\n",
    "    return np.loadtxt(path, delimiter=\",\")\n",
    "\n",
    "\n",
    "def plot_aij(aij, save=False, fn=None):\n",
    "    aij = np.around(aij, decimals=2)\n",
    "\n",
    "    fig, ax = plt.subplots()\n",
    "\n",
    "    sns.heatmap(\n",
    "        aij, center=0, cmap=\"coolwarm\", square=True, linewidths=1, vmax=0.3, vmin=-0.3\n",
    "    )\n",
    "\n",
    "    gu.remove_all_ticks(ax)\n",
    "\n",
    "    if save and fn is None:\n",
    "        raise ValueError(\"Must provide filename if saving\")\n",
    "    elif save and fn is not None:\n",
    "        gu.savefig(fig, fn, ft=\"svg\")\n",
    "\n",
    "\n",
    "def get_sign_aij_and_matching_annot(aij, truth):\n",
    "    testing_aij = aij.copy()\n",
    "    testing_aij[testing_aij == 0] = np.nan\n",
    "\n",
    "    tmp = np.array(np.sign(testing_aij) == np.sign(truth), dtype=\"float64\")\n",
    "    tmp[truth == 0] = np.nan\n",
    "    tmp[aij == 0] = np.nan\n",
    "    tmp[tmp == 0] = -1\n",
    "\n",
    "    tmp2 = np.array(tmp.copy(), dtype=str)\n",
    "    tmp2[tmp2 == \"1.0\"] = \"✓\"\n",
    "    tmp2[tmp2 == \"-1.0\"] = \"✗\"\n",
    "\n",
    "    tmp[aij == 0] = 0\n",
    "    tmp2[aij == 0] = \"0\"\n",
    "\n",
    "    return tmp, tmp2\n",
    "\n",
    "\n",
    "def plot_sign_aij(get_sign_aij_and_matching_annot_result):\n",
    "    \n",
    "    tmp, tmp2 = get_sign_aij_and_matching_annot_result\n",
    "\n",
    "    fig, ax = plt.subplots()\n",
    "\n",
    "    plt.rcParams.update(\n",
    "        {\n",
    "            \"font.family\": \"monospace\",\n",
    "        }\n",
    "    )\n",
    "\n",
    "    sns.heatmap(\n",
    "        pd.DataFrame(tmp),\n",
    "        center=0,\n",
    "        cmap=sns.diverging_palette(300, 145, s=60, as_cmap=True),\n",
    "        square=True,\n",
    "        linewidths=1,\n",
    "        vmax=1,\n",
    "        vmin=-1,\n",
    "        annot=pd.DataFrame(tmp2),\n",
    "        fmt=\"\",\n",
    "        cbar=None,\n",
    "    )\n",
    "\n",
    "    gu.remove_all_ticks(ax)\n",
    "\n",
    "    return fig, ax"
   ]
  },
  {
   "cell_type": "code",
   "execution_count": 4,
   "metadata": {},
   "outputs": [
    {
     "name": "stdout",
     "output_type": "stream",
     "text": [
      "0.7024\n",
      "0.5238\n"
     ]
    }
   ],
   "source": [
    "did = 200\n",
    "\n",
    "method1 = \"default\"\n",
    "method2 = \"ridge_CV\"\n",
    "\n",
    "#########################################################################################################\n",
    "\n",
    "truth = np.loadtxt(\n",
    "    f\"ground_truths/interaction_coefficients/{meta.loc[did, 'ground_truth'].replace('gt', 'aij')}.csv\",\n",
    "    delimiter=\",\",\n",
    ")\n",
    "\n",
    "#########################################################################################################\n",
    "\n",
    "aij1 = load_aij(method1, did)\n",
    "aij2 = load_aij(method2, did)\n",
    "\n",
    "#########################################################################################################\n",
    "\n",
    "print(np.around(im.calculate_es_score(truth, aij1), decimals=4))\n",
    "print(np.around(im.calculate_es_score(truth, aij2), decimals=4))"
   ]
  },
  {
   "cell_type": "code",
   "execution_count": 5,
   "metadata": {},
   "outputs": [
    {
     "data": {
      "image/png": "[encoded data removed]",
      "text/plain": [
       "<Figure size 432x288 with 2 Axes>"
      ]
     },
     "metadata": {
      "image/png": {
       "height": 241,
       "width": 286
      },
      "needs_background": "light"
     },
     "output_type": "display_data"
    },
    {
     "data": {
      "image/png": "[encoded data removed]",
      "text/plain": [
       "<Figure size 432x288 with 2 Axes>"
      ]
     },
     "metadata": {
      "image/png": {
       "height": 241,
       "width": 286
      },
      "needs_background": "light"
     },
     "output_type": "display_data"
    },
    {
     "data": {
      "image/png": "[encoded data removed]",
      "text/plain": [
       "<Figure size 432x288 with 2 Axes>"
      ]
     },
     "metadata": {
      "image/png": {
       "height": 241,
       "width": 286
      },
      "needs_background": "light"
     },
     "output_type": "display_data"
    }
   ],
   "source": [
    "truth_plot = truth.copy()\n",
    "truth_plot[truth_plot == 0] = np.nan\n",
    "\n",
    "plot_aij(\n",
    "    truth_plot,\n",
    "    save=False,\n",
    "    # fn=os.path.join(\n",
    "    #     \"exported_figures\",\n",
    "    #     \"figure_4a\",\n",
    "    #     f\"did={did}_gt\",\n",
    "    # ),\n",
    ")\n",
    "\n",
    "plot_aij(\n",
    "    aij1,\n",
    "    save=False,\n",
    "    # fn=os.path.join(\n",
    "    #     \"exported_figures\",\n",
    "    #     \"figure_4a\",\n",
    "    #     f\"did={did}_method={method1}\",\n",
    "    # ),\n",
    ")\n",
    "\n",
    "plot_aij(\n",
    "    aij2,\n",
    "    save=False,\n",
    "    # fn=os.path.join(\n",
    "    #     \"exported_figures\",\n",
    "    #     \"figure_4a\",\n",
    "    #     f\"did={did}_method={method2}\",\n",
    "    # ),\n",
    ")"
   ]
  },
  {
   "cell_type": "markdown",
   "metadata": {},
   "source": [
    "---"
   ]
  },
  {
   "cell_type": "code",
   "execution_count": 6,
   "metadata": {},
   "outputs": [
    {
     "data": {
      "image/png": "[encoded data removed]",
      "text/plain": [
       "<Figure size 432x288 with 1 Axes>"
      ]
     },
     "metadata": {
      "image/png": {
       "height": 231,
       "width": 231
      }
     },
     "output_type": "display_data"
    }
   ],
   "source": [
    "cur_aij = aij1\n",
    "fig, ax = plot_sign_aij(get_sign_aij_and_matching_annot(cur_aij, truth))\n",
    "\n",
    "# gu.savefig(\n",
    "#     fig,\n",
    "#     os.path.join(\"exported_figures\", \"figure_4a\", f\"did={did}_method={method1}_signs\"),\n",
    "#     ft=\"svg\",\n",
    "# )"
   ]
  },
  {
   "cell_type": "code",
   "execution_count": 7,
   "metadata": {},
   "outputs": [
    {
     "data": {
      "image/png": "[encoded data removed]",
      "text/plain": [
       "<Figure size 432x288 with 1 Axes>"
      ]
     },
     "metadata": {
      "image/png": {
       "height": 231,
       "width": 231
      }
     },
     "output_type": "display_data"
    }
   ],
   "source": [
    "cur_aij = aij2\n",
    "fig, ax = plot_sign_aij(get_sign_aij_and_matching_annot(cur_aij, truth))\n",
    "\n",
    "# gu.savefig(\n",
    "#     fig,\n",
    "#     os.path.join(\"exported_figures\", \"figure_4a\", f\"did={did}_method={method2}_signs\"),\n",
    "#     ft=\"svg\",\n",
    "# )"
   ]
  }
 ],
 "metadata": {
  "kernelspec": {
   "display_name": "Python 3.8.10 ('mkspike')",
   "language": "python",
   "name": "python3"
  },
  "language_info": {
   "codemirror_mode": {
    "name": "ipython",
    "version": 3
   },
   "file_extension": ".py",
   "mimetype": "text/x-python",
   "name": "python",
   "nbconvert_exporter": "python",
   "pygments_lexer": "ipython3",
   "version": "3.8.10"
  },
  "orig_nbformat": 4,
  "vscode": {
   "interpreter": {
    "hash": "2a979d6207f48fd68ead96f535faa3705478d457c2f67b7424611e8ec819811a"
   }
  }
 },
 "nbformat": 4,
 "nbformat_minor": 2
}
